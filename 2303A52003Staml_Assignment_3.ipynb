{
  "nbformat": 4,
  "nbformat_minor": 0,
  "metadata": {
    "colab": {
      "provenance": [],
      "authorship_tag": "ABX9TyMlyFhUZrw3wCRMmGnPSpHX",
      "include_colab_link": true
    },
    "kernelspec": {
      "name": "python3",
      "display_name": "Python 3"
    },
    "language_info": {
      "name": "python"
    }
  },
  "cells": [
    {
      "cell_type": "markdown",
      "metadata": {
        "id": "view-in-github",
        "colab_type": "text"
      },
      "source": [
        "<a href=\"https://colab.research.google.com/github/2303A52003/2024_statml-assignments/blob/main/2303A52003Staml_Assignment_3.ipynb\" target=\"_parent\"><img src=\"https://colab.research.google.com/assets/colab-badge.svg\" alt=\"Open In Colab\"/></a>"
      ]
    },
    {
      "cell_type": "markdown",
      "source": [
        "Question:1 Find out the maximum likelihood parameters values for california_housing [‘latiyude’,total_rooms’,’house_median_age’,’total_bedrooms’] data, each column individually."
      ],
      "metadata": {
        "id": "vynV26YWjPkK"
      }
    },
    {
      "cell_type": "code",
      "source": [
        "import pandas as pd\n",
        "from scipy import stats\n",
        "from sklearn.datasets import fetch_california_housing\n",
        "california_housing = fetch_california_housing(as_frame=True)\n",
        "data = california_housing.frame\n",
        "\n",
        "columns = ['Latitude', 'total_rooms', 'house_median_age', 'total_bedrooms']\n",
        "\n",
        "for col in columns:\n",
        "    if col in data.columns:\n",
        "        params = stats.norm.fit(data[col])\n",
        "        print(f\"Column: {col}, Mean: {params[0]}, Standard Deviation: {params[1]}\")\n",
        "    else:\n",
        "        print(f\"Column '{col}' not found in the DataFrame.\")"
      ],
      "metadata": {
        "colab": {
          "base_uri": "https://localhost:8080/"
        },
        "id": "6DO_2fpGj-L-",
        "outputId": "84d73d1d-8acd-4539-85f6-ce27e84b2d82"
      },
      "execution_count": 13,
      "outputs": [
        {
          "output_type": "stream",
          "name": "stdout",
          "text": [
            "Column: Latitude, Mean: 35.63186143410853, Standard Deviation: 2.135900653797483\n",
            "Column 'total_rooms' not found in the DataFrame.\n",
            "Column 'house_median_age' not found in the DataFrame.\n",
            "Column 'total_bedrooms' not found in the DataFrame.\n"
          ]
        }
      ]
    },
    {
      "cell_type": "markdown",
      "source": [
        "Question:2 Find log-likelihood values for 50, 75, and 80. For California_housing [‘latitude’] and find the Max likelihood values."
      ],
      "metadata": {
        "id": "WKxgbS6gkEdz"
      }
    },
    {
      "cell_type": "code",
      "source": [
        "import pandas as pd\n",
        "from scipy import stats\n",
        "from sklearn.datasets import fetch_california_housing\n",
        "\n",
        "california_housing = fetch_california_housing(as_frame=True)\n",
        "data = california_housing.frame\n",
        "params = stats.norm.fit(data['Latitude'])\n",
        "values = [50, 75, 80]\n",
        "for value in values:\n",
        "    log_likelihood = stats.norm.logpdf(value, *params)\n",
        "    print(f\"Log-likelihood for {value}: {log_likelihood}\")\n",
        "print(f\"\\nMaximum Likelihood Estimates for 'Latitude':\")\n",
        "print(f\"Mean: {params[0]}\")\n",
        "print(f\"Standard Deviation: {params[1]}\")"
      ],
      "metadata": {
        "colab": {
          "base_uri": "https://localhost:8080/"
        },
        "id": "0beksjC7kSFJ",
        "outputId": "9974069a-e228-4159-cfce-ee773a8cf240"
      },
      "execution_count": 14,
      "outputs": [
        {
          "output_type": "stream",
          "name": "stdout",
          "text": [
            "Log-likelihood for 50: -24.30388630999708\n",
            "Log-likelihood for 75: -171.5403881924758\n",
            "Log-likelihood for 80: -217.42758836196197\n",
            "\n",
            "Maximum Likelihood Estimates for 'Latitude':\n",
            "Mean: 35.63186143410853\n",
            "Standard Deviation: 2.135900653797483\n"
          ]
        }
      ]
    },
    {
      "cell_type": "markdown",
      "source": [
        "Question:3 Estimate the density of each column of california_housing [‘latitude’,total_rooms’,’house_median_age’,’total_bedrooms’] data, For the bins [5, 10, 15, 20]. And write the observations.\n",
        "\n",
        "\n",
        "\n"
      ],
      "metadata": {
        "id": "-NKgwBifko5S"
      }
    },
    {
      "cell_type": "code",
      "source": [
        "import pandas as pd\n",
        "from sklearn.datasets import fetch_california_housing\n",
        "import numpy as np\n",
        "california_housing = fetch_california_housing(as_frame=True)\n",
        "data = california_housing.frame\n",
        "columns = ['Latitude', 'total_rooms', 'house_median_age', 'total_bedrooms']\n",
        "bins = [5, 10, 15, 20]\n",
        "for col in columns:\n",
        "    if col in data.columns:\n",
        "        for num_bins in bins:\n",
        "            density, _ = np.histogram(data[col], bins=num_bins, density=True)\n",
        "            print(f\"Density estimates for '{col}' with {num_bins} bins: {density}\")\n",
        "    else:\n",
        "        print(f\"Column '{col}' not found in DataFrame.\")\n",
        "print(\"\\nObservations:\")\n",
        "print(\"- The density estimates provide a way to understand the distribution of values within each column.\")\n",
        "print(\"- Increasing the number of bins generally leads to a more fine-grained representation of the density.\")\n",
        "print(\"- The density values indicate the relative frequency of data points falling within each bin.\")\n",
        "print(\"- Comparing the density estimates across columns can reveal differences in their distributions.\")"
      ],
      "metadata": {
        "colab": {
          "base_uri": "https://localhost:8080/"
        },
        "id": "6z7W9IyPlFRM",
        "outputId": "48dbcabd-6df7-4986-bc0a-a797ba0ce124"
      },
      "execution_count": 15,
      "outputs": [
        {
          "output_type": "stream",
          "name": "stdout",
          "text": [
            "Density estimates for 'Latitude' with 5 bins: [0.27759414 0.03143304 0.15456508 0.05740841 0.01034896]\n",
            "Density estimates for 'Latitude' with 10 bins: [0.09247131 0.46271697 0.03846106 0.02440501 0.06652168 0.24260847\n",
            " 0.08958802 0.02522881 0.01668191 0.00401601]\n",
            "Density estimates for 'Latitude' with 15 bins: [0.11862689 0.13438203 0.5797735  0.03992845 0.03560351 0.01876715\n",
            " 0.07105257 0.13592665 0.25671601 0.11360688 0.04108692 0.01753145\n",
            " 0.01668191 0.01034896 0.00401601]\n",
            "Density estimates for 'Latitude' with 20 bins: [0.13726532 0.0476773  0.38203626 0.54339767 0.04499996 0.03192217\n",
            " 0.02687641 0.02193362 0.06425623 0.06878712 0.22520574 0.2600112\n",
            " 0.11800905 0.06116699 0.03377571 0.01668191 0.01245994 0.02090387\n",
            " 0.00360412 0.00442791]\n",
            "Column 'total_rooms' not found in DataFrame.\n",
            "Column 'house_median_age' not found in DataFrame.\n",
            "Column 'total_bedrooms' not found in DataFrame.\n",
            "\n",
            "Observations:\n",
            "- The density estimates provide a way to understand the distribution of values within each column.\n",
            "- Increasing the number of bins generally leads to a more fine-grained representation of the density.\n",
            "- The density values indicate the relative frequency of data points falling within each bin.\n",
            "- Comparing the density estimates across columns can reveal differences in their distributions.\n"
          ]
        }
      ]
    }
  ]
}